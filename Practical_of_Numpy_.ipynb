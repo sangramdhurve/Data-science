{
  "cells": [
    {
      "cell_type": "markdown",
      "metadata": {
        "id": "view-in-github",
        "colab_type": "text"
      },
      "source": [
        "<a href=\"https://colab.research.google.com/github/sangramdhurve/Data-science/blob/main/Practical_of_Numpy_.ipynb\" target=\"_parent\"><img src=\"https://colab.research.google.com/assets/colab-badge.svg\" alt=\"Open In Colab\"/></a>"
      ]
    },
    {
      "cell_type": "markdown",
      "metadata": {
        "id": "Zs52D12OyYZB"
      },
      "source": [
        "#  Numpy \n",
        "\n"
      ]
    },
    {
      "cell_type": "markdown",
      "metadata": {
        "id": "gF9QFZEpyYZH"
      },
      "source": [
        "## Arrays"
      ]
    },
    {
      "cell_type": "code",
      "execution_count": 1,
      "metadata": {
        "id": "JjTP-Z9PyYZM",
        "outputId": "de6ce07f-131e-479e-f03c-f1d1bb4c28b0",
        "colab": {
          "base_uri": "https://localhost:8080/"
        }
      },
      "outputs": [
        {
          "output_type": "stream",
          "name": "stdout",
          "text": [
            "Array 1 :  [ 1.4  7.   8.  12.3]\n"
          ]
        }
      ],
      "source": [
        "from numpy import *\n",
        "# Single dimensional array \n",
        "array_data1 = [1.4, 7, 8, 12.3]\n",
        "array1 = array(array_data1)\n",
        "print(\"Array 1 : \",array1)"
      ]
    },
    {
      "cell_type": "code",
      "execution_count": 2,
      "metadata": {
        "id": "4i-D8GI5yYZV",
        "outputId": "28c7da84-262d-4ca3-cede-c71f15fd8e07",
        "colab": {
          "base_uri": "https://localhost:8080/"
        }
      },
      "outputs": [
        {
          "output_type": "stream",
          "name": "stdout",
          "text": [
            "Array 2:  [[1 2 3 4]\n",
            " [5 6 7 8]]\n"
          ]
        }
      ],
      "source": [
        "# Multi dimensional array \n",
        "#\n",
        "array_data2 = [[1, 2, 3, 4], [5, 6, 7, 8]]\n",
        "array2 = array(array_data2)\n",
        "print(\"Array 2: \", array2)"
      ]
    },
    {
      "cell_type": "code",
      "execution_count": 3,
      "metadata": {
        "id": "HE-4rqppyYZW",
        "outputId": "70b1696a-b5bb-4a9c-b323-914e5fecbc1b",
        "colab": {
          "base_uri": "https://localhost:8080/"
        }
      },
      "outputs": [
        {
          "output_type": "stream",
          "name": "stdout",
          "text": [
            "Dimension of array2 is  2\n",
            "Shape of array2 is  (2, 4)\n"
          ]
        }
      ],
      "source": [
        "# Check the Dimension of the array \n",
        "print(\"Dimension of array2 is \",array2.ndim)\n",
        "\n",
        "# Check the Size of Array \n",
        "print(\"Shape of array2 is \",array2.shape)"
      ]
    },
    {
      "cell_type": "code",
      "execution_count": 4,
      "metadata": {
        "id": "hIGPxcEeyYZa",
        "outputId": "1fb35c69-7f91-444a-cffd-04117aafcadf",
        "colab": {
          "base_uri": "https://localhost:8080/"
        }
      },
      "outputs": [
        {
          "output_type": "stream",
          "name": "stdout",
          "text": [
            "Zero Array [[0. 0. 0. 0. 0. 0.]\n",
            " [0. 0. 0. 0. 0. 0.]\n",
            " [0. 0. 0. 0. 0. 0.]]\n"
          ]
        }
      ],
      "source": [
        "# Create and array of zeros \n",
        "Zero_Array = zeros((3, 6))\n",
        "print(\"Zero Array\",Zero_Array)\n"
      ]
    },
    {
      "cell_type": "code",
      "execution_count": 5,
      "metadata": {
        "scrolled": true,
        "id": "9cnmYy6AyYZd",
        "outputId": "96024fbb-ba6e-49a3-cd30-51bff7d04837",
        "colab": {
          "base_uri": "https://localhost:8080/"
        }
      },
      "outputs": [
        {
          "output_type": "stream",
          "name": "stdout",
          "text": [
            "data type of Array1 is :  int64\n"
          ]
        }
      ],
      "source": [
        "# Check Data Type of Array \n",
        "array_data1 = [1,2,3,4]\n",
        "Array1 = array(array_data1)\n",
        "print(\"data type of Array1 is : \",Array1.dtype)"
      ]
    },
    {
      "cell_type": "markdown",
      "metadata": {
        "id": "7S2-KvhsyYZj"
      },
      "source": [
        "\n",
        "### Arrays and Scalars \n",
        "\n",
        "### Notes:1)  Operations between Arrays of same size happens element wise \n",
        "### Notes:2)  Operations with Arrays and Scalars will propagate to each element \n"
      ]
    },
    {
      "cell_type": "code",
      "execution_count": 6,
      "metadata": {
        "id": "Jh9-IgJLyYZn",
        "outputId": "9ff0607c-57c0-44c6-8a04-53c9a210bc0d",
        "colab": {
          "base_uri": "https://localhost:8080/"
        }
      },
      "outputs": [
        {
          "output_type": "stream",
          "name": "stdout",
          "text": [
            "Original Array  [[1 2 3]\n",
            " [4 5 6]]\n",
            "Element wise sq of arr1 is :  [[ 1  4  9]\n",
            " [16 25 36]]\n",
            "Double array element wise [[ 2  4  6]\n",
            " [ 8 10 12]]\n"
          ]
        }
      ],
      "source": [
        "#--------------------\n",
        "# ELement wise array multiplication \n",
        "#--------------------\n",
        "arr1 = array([[1,2,3],[4,5,6]])\n",
        "arr2 = arr1*arr1 \n",
        "print(\"Original Array \",arr1)\n",
        "print(\"Element wise sq of arr1 is : \",arr2)\n",
        "arr3 = arr1*2\n",
        "print(\"Double array element wise\", arr3)"
      ]
    },
    {
      "cell_type": "code",
      "execution_count": 7,
      "metadata": {
        "id": "xNYeDT4nyYZq",
        "outputId": "0c31f96e-8d41-40b9-b783-ae001bcd4e77",
        "colab": {
          "base_uri": "https://localhost:8080/"
        }
      },
      "outputs": [
        {
          "output_type": "stream",
          "name": "stdout",
          "text": [
            "Arr1 before manipulation is : [0 1 2 3 4 5 6 7 8 9]\n",
            "Sub_Array before change is: [3 4]\n",
            "Sub Array after change : [56  4]\n",
            "Original Array is [ 0  1  2 56  4  5  6  7  8  9]\n",
            "Sub Array after new assign is :  66\n",
            "Main Array after new assign is :  [ 0  1  2 56  4  5  6  7  8  9]\n"
          ]
        }
      ],
      "source": [
        "#--------------------------------------------\n",
        "# Indexing and slicing of arrays \n",
        "#--------------------------------------------\n",
        "# Define Array of 10 elements \n",
        "Arr1 = array(arange(10))\n",
        "print(\"Arr1 before manipulation is :\",Arr1)\n",
        "\n",
        "\n",
        "# Choose Index pos 3 to 5 and create a sub array \n",
        "# Note the 5th Index position actually does not get selected \n",
        "# Note: Only elemenst upto the 5th position get selected \n",
        "Sub_Arr1 = Arr1[3:5]\n",
        "# Display elements of sub array \n",
        "print(\"Sub_Array before change is:\",Sub_Arr1)\n",
        "\n",
        "\n",
        "# Assign a fixed value to sub Array Index Pos 0 \n",
        "Sub_Arr1[0] = 56\n",
        "# Display elements of Sub_Arr1\n",
        "print(\"Sub Array after change :\",Sub_Arr1)\n",
        "\n",
        "\n",
        "\n",
        "# Display elements of original array \n",
        "# Note: change in sub Array caused change in main array \n",
        "print(\"Original Array is\",Arr1)\n",
        "\n",
        "\n",
        "\n",
        "# Assign a element to the entire Sub array \n",
        "Sub_Arr1 = 66\n",
        "# Display Sub Arry \n",
        "print(\"Sub Array after new assign is : \",Sub_Arr1)\n",
        "\n",
        "\n",
        "# Display main Array \n",
        "print(\"Main Array after new assign is : \", Arr1)\n"
      ]
    },
    {
      "cell_type": "code",
      "execution_count": 8,
      "metadata": {
        "id": "qwNwlh17yYZt",
        "outputId": "73e40d7a-d16b-4e9c-84f2-57845e7ff3f7",
        "colab": {
          "base_uri": "https://localhost:8080/"
        }
      },
      "outputs": [
        {
          "output_type": "stream",
          "name": "stdout",
          "text": [
            "Rand Vector [2 3 2 8 6 3 6]\n",
            "Matching Sub set of Rand Num is: [2 8]\n"
          ]
        }
      ],
      "source": [
        "# Boolean Indexing \n",
        "#-------------------------------\n",
        "# Create an Array of names \n",
        "Arr_Names = array(['Bob', 'Joe', 'Will', 'Bob', 'Will', 'Joe', 'Joe'])\n",
        "\n",
        "\n",
        "# Get Array size\n",
        "Arrsize = Arr_Names.shape\n",
        "Len1 = Arrsize[0]\n",
        "\n",
        "\n",
        "# Create a  Vector of random numbers of the same length\n",
        "# Init a  Vector of size = Len1 \n",
        "Rand_Set = array(arange(Len1))\n",
        "\n",
        "\n",
        "# Populate Vector with Random nos from 1 to 10 \n",
        "for i in range(Len1):\n",
        "    Rand_Set[i-1] = random.uniform(1,10)\n",
        "    \n",
        "# Display Rand Vector\n",
        "print(\"Rand Vector\",Rand_Set)\n",
        "\n",
        "\n",
        "# Get Those Index positions for which name = Bob \n",
        "# Use the index set to choose a sub set of Random Numbers \n",
        "Match_name_rand = Rand_Set[Arr_Names == 'Bob']\n",
        "print(\"Matching Sub set of Rand Num is:\",Match_name_rand)"
      ]
    },
    {
      "cell_type": "markdown",
      "metadata": {
        "id": "SnaePnmjyYZw"
      },
      "source": [
        "### Array  Operations "
      ]
    },
    {
      "cell_type": "code",
      "execution_count": 9,
      "metadata": {
        "id": "Xxh-CwfMyYZy",
        "outputId": "a2b3e9cf-0a60-45c3-c6d6-6247c6dbe619",
        "colab": {
          "base_uri": "https://localhost:8080/"
        }
      },
      "outputs": [
        {
          "output_type": "stream",
          "name": "stdout",
          "text": [
            "Original Array is  [[ 1  2  3  4]\n",
            " [ 5  6  7  8]\n",
            " [ 9 10 11 12]]\n",
            "Sliced Array is :  [ 9 10]\n"
          ]
        }
      ],
      "source": [
        "# Slicing multi dimensional Arrays \n",
        "# define a 3 by 4 array \n",
        "Array1 = array([[1,2,3,4],[5,6,7,8],[9,10,11,12]])\n",
        "print(\"Original Array is \", Array1)\n",
        "Array_Slice1 = Array1[2,:2]\n",
        "print(\"Sliced Array is : \",Array_Slice1)\n"
      ]
    },
    {
      "cell_type": "code",
      "execution_count": 10,
      "metadata": {
        "id": "vkOjCzedyYZ4",
        "outputId": "ca70227e-e308-44e7-c16a-81a0087fa3d3",
        "colab": {
          "base_uri": "https://localhost:8080/"
        }
      },
      "outputs": [
        {
          "output_type": "stream",
          "name": "stdout",
          "text": [
            "Sqrt Root values: [0.         1.         1.41421356 1.73205081 2.         2.23606798\n",
            " 2.44948974 2.64575131 2.82842712 3.        ]\n"
          ]
        }
      ],
      "source": [
        "#-------------\n",
        "# Square Root \n",
        "#-------------\n",
        "from numpy import *\n",
        "Arr = arange(10)\n",
        "Sqrt_Arr = sqrt(Arr)\n",
        "print(\"Sqrt Root values:\", Sqrt_Arr )"
      ]
    },
    {
      "cell_type": "code",
      "execution_count": 11,
      "metadata": {
        "id": "GMd6WdEpyYZ6",
        "outputId": "8605afa8-4ead-425a-a385-0ddad2548f31",
        "colab": {
          "base_uri": "https://localhost:8080/"
        }
      },
      "outputs": [
        {
          "output_type": "stream",
          "name": "stdout",
          "text": [
            "X Array is : [-0.94174255  0.39559307 -2.31536509  0.56477493 -0.0891912   0.25215679\n",
            "  0.60244749  0.00555628  0.07408158  0.23918975]\n",
            "Y Array is : [-1.24538566 -0.90968992  0.73564421  1.75832064  1.1735916   0.36997479\n",
            " -1.29252465  0.15647224  1.0415769  -0.72310463]\n",
            "The Max element wise is : [-0.94174255  0.39559307  0.73564421  1.75832064  1.1735916   0.36997479\n",
            "  0.60244749  0.15647224  1.0415769   0.23918975]\n"
          ]
        }
      ],
      "source": [
        "#--------------------------\n",
        "# Binary Function example \n",
        "#---------------------------\n",
        "\n",
        "# Create Two Arrays of 10 random numbers each \n",
        "x = random.randn(10)\n",
        "y = random.randn(10)\n",
        "# Print  both the arrays \n",
        "print(\"X Array is :\", x)\n",
        "print(\"Y Array is :\", y)\n",
        "# Get the Element wise max, comparing both arrays \n",
        "Max_XY = maximum(x,y)\n",
        "print(\"The Max element wise is :\", Max_XY)"
      ]
    },
    {
      "cell_type": "code",
      "execution_count": 12,
      "metadata": {
        "id": "GQUclD4HyYZ9",
        "outputId": "a7713a1b-9cc9-48d6-d901-141ac8775757",
        "colab": {
          "base_uri": "https://localhost:8080/"
        }
      },
      "outputs": [
        {
          "output_type": "stream",
          "name": "stdout",
          "text": [
            "Choice:  [1, 20, 3, 40, 5]\n"
          ]
        }
      ],
      "source": [
        " # Conditional logic as Array Operators\n",
        "# ---\n",
        "# Define Boolean Array \n",
        "Bool_Arr = array([True,False,True,False,True])\n",
        "X_Arr = array([1,2,3,4,5])\n",
        "Y_Arr = array([10,20,30,40,50])\n",
        "\n",
        "Choice = [(X if Z else Y) for X,Y,Z in zip(X_Arr,Y_Arr,Bool_Arr)]\n",
        "print(\"Choice: \",Choice)"
      ]
    },
    {
      "cell_type": "code",
      "execution_count": 13,
      "metadata": {
        "id": "XcAXHddByYZ-",
        "outputId": "83584124-9946-44b6-e793-d9bb6c4319d5",
        "colab": {
          "base_uri": "https://localhost:8080/"
        }
      },
      "outputs": [
        {
          "output_type": "stream",
          "name": "stdout",
          "text": [
            "original  Array is :  [[ 1.61501331  0.32028214 -0.71915144]\n",
            " [ 0.47563018  1.35404155  0.74659394]\n",
            " [-0.36831859  1.76843875  0.38403077]]\n",
            "Chg Array is :  [[ 2  2 -2]\n",
            " [ 2  2  2]\n",
            " [-2  2  2]]\n"
          ]
        }
      ],
      "source": [
        "#---------------------------------\n",
        "# The where clause in arrays \n",
        "#---------------------------------\n",
        "# Create a 3x3 array of random numbers \n",
        "Arr3 = random.randn(3,3)\n",
        "print(\"original  Array is : \", Arr3)\n",
        "# Replace pos numbers with +2 and _ve nos with -2 \n",
        "Arr3_Chg = where(Arr3 > 0, 2, -2)\n",
        "# Print changed Array \n",
        "print(\"Chg Array is : \", Arr3_Chg)"
      ]
    },
    {
      "cell_type": "markdown",
      "metadata": {
        "id": "6_uGXAmkyYaA"
      },
      "source": [
        "###  Basic Statistical functions "
      ]
    },
    {
      "cell_type": "code",
      "execution_count": 14,
      "metadata": {
        "id": "3RiUrS9IyYaB",
        "outputId": "94f6c3fa-5ca5-4f5f-e499-99de300b3d84",
        "colab": {
          "base_uri": "https://localhost:8080/"
        }
      },
      "outputs": [
        {
          "output_type": "stream",
          "name": "stdout",
          "text": [
            "Mean of Array is:  5.0\n"
          ]
        }
      ],
      "source": [
        "Arr_Stat = array([[1,2,3],[4,5,6],[7,8,9]])\n",
        "# Mean\n",
        "Arr_Mean = mean(Arr_Stat) \n",
        "print(\"Mean of Array is: \",Arr_Mean)"
      ]
    },
    {
      "cell_type": "code",
      "execution_count": 15,
      "metadata": {
        "id": "5tNb0hQPyYaC",
        "outputId": "f3574f2e-1069-430c-acb5-45aaf198666b",
        "colab": {
          "base_uri": "https://localhost:8080/"
        }
      },
      "outputs": [
        {
          "output_type": "stream",
          "name": "stdout",
          "text": [
            "Sum of Array is: 45\n"
          ]
        }
      ],
      "source": [
        "# Sum \n",
        "Arr_Sum = sum(Arr_Stat)\n",
        "print(\"Sum of Array is:\",Arr_Sum)"
      ]
    },
    {
      "cell_type": "code",
      "execution_count": 16,
      "metadata": {
        "id": "sIVVTS45yYaC",
        "outputId": "0440d467-b7e2-485b-836c-dc3d07092041",
        "colab": {
          "base_uri": "https://localhost:8080/"
        }
      },
      "outputs": [
        {
          "output_type": "stream",
          "name": "stdout",
          "text": [
            "Col_Means = : [4. 5. 6.]\n"
          ]
        }
      ],
      "source": [
        "\n",
        "# Get Column means (0th dimension or axis )\n",
        "Arr_Mean_Cols = Arr_Stat.mean(0)\n",
        "print(\"Col_Means = :\", Arr_Mean_Cols)\n"
      ]
    },
    {
      "cell_type": "markdown",
      "metadata": {
        "id": "4xurKIi7yYaD"
      },
      "source": [
        "### Misc  Array operations "
      ]
    },
    {
      "cell_type": "code",
      "execution_count": 17,
      "metadata": {
        "id": "H1JCBi1xyYaE",
        "outputId": "13e504db-2abb-4482-f85a-c7660e9b11d3",
        "colab": {
          "base_uri": "https://localhost:8080/"
        }
      },
      "outputs": [
        {
          "output_type": "stream",
          "name": "stdout",
          "text": [
            "Unsorted Array is  [10  2 34  5]\n",
            "Sorted Array is  [2, 5, 10, 34]\n"
          ]
        }
      ],
      "source": [
        "#--------------------------------------------\n",
        "#   Sorting \n",
        "#--------------------------------------------\n",
        "Arr4 = array([10,2,34,5])\n",
        "Arr4_Sorted = sorted(Arr4) \n",
        "print(\"Unsorted Array is \",Arr4)\n",
        "print(\"Sorted Array is \",Arr4_Sorted)\n"
      ]
    },
    {
      "cell_type": "code",
      "execution_count": 18,
      "metadata": {
        "id": "LGVaXWODyYaF",
        "outputId": "40ca0d34-691b-44ec-8d84-764e47df987e",
        "colab": {
          "base_uri": "https://localhost:8080/"
        }
      },
      "outputs": [
        {
          "output_type": "stream",
          "name": "stdout",
          "text": [
            "Unique Names are  ['Bob' 'Jeet' 'Jim' 'Joy' 'Kumar' 'Rajesh' 'Roy']\n"
          ]
        }
      ],
      "source": [
        "#-------------------------------------------------\n",
        "#  Unique  and other Array set operations \n",
        "#-------------------------------------------------\n",
        "# Create a Names Array \n",
        "Names_Arr = array([\"Jim\",\"Bob\",\"Roy\",\"Rajesh\",\"Roy\",\"Kumar\",\"Jeet\",\"Roy\",\"Joy\"])\n",
        "# Get Unique Names \n",
        "Names_Arr_Unq = unique(Names_Arr)\n",
        "print(\"Unique Names are \",Names_Arr_Unq)"
      ]
    },
    {
      "cell_type": "code",
      "execution_count": 19,
      "metadata": {
        "id": "TRWmW78RyYaF",
        "outputId": "8f38c293-5b4d-48e1-a274-ebe8067a3466",
        "colab": {
          "base_uri": "https://localhost:8080/"
        }
      },
      "outputs": [
        {
          "output_type": "stream",
          "name": "stdout",
          "text": [
            "[[ 0.28167023  0.18257743  1.238949   -0.59805922]\n",
            " [-0.42729929 -0.67620013  0.18867787  1.79010237]\n",
            " [ 0.85338755 -0.35574622  0.76131426 -0.88333992]\n",
            " [ 1.02202408  2.10121664 -1.42461359  1.59400153]]\n"
          ]
        }
      ],
      "source": [
        "# Generate a 4 by 4  Array of random numbers following \n",
        "# Normal distribution \n",
        "#------------------------------------------------------\n",
        "Arr4by4 = random.normal(size=(4,4))\n",
        "print(Arr4by4)"
      ]
    },
    {
      "cell_type": "markdown",
      "metadata": {
        "id": "lb-WKMCDyYaG"
      },
      "source": [
        "### End of Module - Numpy"
      ]
    }
  ],
  "metadata": {
    "kernelspec": {
      "display_name": "Python 3",
      "language": "python",
      "name": "python3"
    },
    "language_info": {
      "codemirror_mode": {
        "name": "ipython",
        "version": 3
      },
      "file_extension": ".py",
      "mimetype": "text/x-python",
      "name": "python",
      "nbconvert_exporter": "python",
      "pygments_lexer": "ipython3",
      "version": "3.6.7"
    },
    "colab": {
      "name": "Practical of Numpy .ipynb",
      "provenance": [],
      "include_colab_link": true
    }
  },
  "nbformat": 4,
  "nbformat_minor": 0
}